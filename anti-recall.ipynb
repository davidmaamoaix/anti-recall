{
 "cells": [
  {
   "cell_type": "markdown",
   "id": "65b3b583-a5a2-47b1-9de3-cac701e11c45",
   "metadata": {},
   "source": [
    "# WeChat Anti-Recall\n",
    "\n",
    "This script is in a notebook for ease of configuration."
   ]
  },
  {
   "cell_type": "code",
   "execution_count": 1,
   "id": "f9a71eff-a518-45a8-80a9-220757399c8a",
   "metadata": {
    "tags": []
   },
   "outputs": [
    {
     "name": "stdout",
     "output_type": "stream",
     "text": [
      "█\r"
     ]
    }
   ],
   "source": [
    "# dependencies\n",
    "\n",
    "import os\n",
    "import bs4\n",
    "import itchat\n",
    "import collections\n",
    "\n",
    "import itchat.content as ct\n",
    "\n",
    "from io import StringIO\n",
    "import contextlib\n",
    "import traceback"
   ]
  },
  {
   "cell_type": "code",
   "execution_count": 2,
   "id": "1d533efc-9fc9-41b1-8675-0f0686ee7508",
   "metadata": {},
   "outputs": [],
   "source": [
    "# configurations\n",
    "\n",
    "class Config:\n",
    "    \n",
    "    # whitelist of all group chat names to enable anti-recall in\n",
    "    GROUPS = [ '23 CMU 校友', 'test' ]\n",
    "    \n",
    "    # msg id of a \"recall\" message\n",
    "    RECALL_ID = 10002\n",
    "    \n",
    "    # expire time of a stored message (default: 2 minutes)\n",
    "    EXPIRE = 120\n",
    "    \n",
    "    # path of image folder\n",
    "    IMG_PATH = 'image_cache'"
   ]
  },
  {
   "cell_type": "code",
   "execution_count": 3,
   "id": "5ae18396-800c-4199-a8d3-2f074ef7d401",
   "metadata": {
    "tags": []
   },
   "outputs": [],
   "source": [
    "# message handlers\n",
    "\n",
    "class BaseMessage:\n",
    "    \n",
    "    def __init__(self, data, time):\n",
    "        self.data = data\n",
    "        self.time = time\n",
    "    \n",
    "    def on_recall(self, msg): raise NotImplementedError\n",
    "    def on_delete(self): raise NotImplementedError\n",
    "    \n",
    "class TextMessage(BaseMessage):\n",
    "        \n",
    "    def on_recall(self, msg):\n",
    "        msg.user.send(f'「撤回提示」@{msg.actualNickName}\\u2005撤回了一条信息，内容为：{self.data}')\n",
    "        \n",
    "    def on_delete(self):\n",
    "        pass\n",
    "    \n",
    "class PictureMessage(BaseMessage):\n",
    "\n",
    "    def on_recall(self, msg):\n",
    "        msg.user.send(f'「撤回提示」@{msg.actualNickName}\\u2005撤回了一张图片：')\n",
    "        msg.user.send_image(self.data)\n",
    "        \n",
    "    def on_delete(self):\n",
    "        os.remove(self.data)"
   ]
  },
  {
   "cell_type": "code",
   "execution_count": 4,
   "id": "ca0e100f-b8f0-48a8-9820-387841410f95",
   "metadata": {
    "tags": []
   },
   "outputs": [],
   "source": [
    "# session\n",
    "\n",
    "history = collections.OrderedDict()\n",
    "\n",
    "# itchat is single-threaded so this is fine\n",
    "def clean_up(curr_time):\n",
    "    remove = []\n",
    "    for k, v in history.items():\n",
    "        if curr_time - v.time < Config.EXPIRE:\n",
    "            break\n",
    "            \n",
    "        remove.append(k)\n",
    "    \n",
    "    for k in remove:\n",
    "        history[k].on_delete()\n",
    "        del history[k]"
   ]
  },
  {
   "cell_type": "code",
   "execution_count": 5,
   "id": "16a4fd06-9482-4e32-99e5-4efb5b6fe721",
   "metadata": {
    "tags": []
   },
   "outputs": [],
   "source": [
    "# event subscribers\n",
    "\n",
    "dedup_hack = set()\n",
    "\n",
    "def get_exec(code):\n",
    "    s = StringIO()\n",
    "    with contextlib.redirect_stdout(s):\n",
    "        try:\n",
    "            exec(code, {})\n",
    "        except:\n",
    "            print(traceback.format_exc())\n",
    "    return s.getvalue()\n",
    "\n",
    "# itchat-uos' `itchat.content.*` is bugged and actual only accepts lower-case types,\n",
    "# thus the manual entering of types\n",
    "@itchat.msg_register(['Picture', 'Video'], isGroupChat=True)\n",
    "def img_msg(msg):\n",
    "    if msg.user.nickName not in Config.GROUPS or msg.msgId in history:\n",
    "        return\n",
    "\n",
    "    clean_up(msg.createTime)\n",
    "    path = os.path.join(Config.IMG_PATH, msg.fileName)\n",
    "    msg.download(path)\n",
    "    history[msg.msgId] = PictureMessage(path, msg.createTime)\n",
    "    \n",
    "@itchat.msg_register(ct.TEXT, isGroupChat=True)\n",
    "def group_text_msg(msg):\n",
    "    if msg.user.nickName not in Config.GROUPS or msg.msgId in dedup_hack:\n",
    "        return\n",
    "    \n",
    "    dedup_hack.add(msg.msgId)\n",
    "    \n",
    "    if msg.content.startswith('python:'):\n",
    "        code = '\\n'.join(msg.content.split('\\n')[1 :])\n",
    "        res = get_exec(code)\n",
    "        msg.user.send(res)\n",
    "    else:\n",
    "        if msg.msgId in history:\n",
    "            return\n",
    "\n",
    "        clean_up(msg.createTime)\n",
    "        history[msg.msgId] = TextMessage(msg.content, msg.createTime)\n",
    "\n",
    "@itchat.msg_register(ct.NOTE, isGroupChat=True)\n",
    "def note_msg(msg):\n",
    "    if msg.user.nickName not in Config.GROUPS:\n",
    "        return\n",
    "    \n",
    "    if msg.msgType == Config.RECALL_ID:\n",
    "        obj = bs4.BeautifulSoup(msg.content, 'lxml')\n",
    "        msg_id = obj.find('msgid').text\n",
    "        if msg_id in history:\n",
    "            original = history[msg_id]\n",
    "            original.on_recall(msg)\n",
    "            original.on_delete()\n",
    "            del history[msg_id]"
   ]
  },
  {
   "cell_type": "code",
   "execution_count": 6,
   "id": "32a3cbb4-14c6-481b-bbeb-cab3ea47b72e",
   "metadata": {
    "tags": []
   },
   "outputs": [
    {
     "name": "stderr",
     "output_type": "stream",
     "text": [
      "Getting uuid of QR code.\n",
      "Downloading QR code.\n",
      "Please scan the QR code to log in.\n",
      "Please press confirm on your phone.\n",
      "Loading the contact, this may take a little while.\n",
      "Login successfully as 晓马\n",
      "Start auto replying.\n"
     ]
    },
    {
     "name": "stdout",
     "output_type": "stream",
     "text": [
      "\u001b[H\u001b[2J"
     ]
    },
    {
     "name": "stderr",
     "output_type": "stream",
     "text": [
      "Bye~\n",
      "LOG OUT!\n"
     ]
    }
   ],
   "source": [
    "# launch itchat\n",
    "\n",
    "if os.path.exists(Config.IMG_PATH):\n",
    "    for f in os.listdir(Config.IMG_PATH):\n",
    "        if f[0] != '.':\n",
    "            os.remove(os.path.join(Config.IMG_PATH, f))\n",
    "else:\n",
    "    os.makedirs(Config.IMG_PATH)\n",
    "\n",
    "history.clear()\n",
    "    \n",
    "itchat.auto_login(hotReload=True)\n",
    "itchat.run()"
   ]
  },
  {
   "cell_type": "code",
   "execution_count": 10,
   "id": "de6eed84-52e3-4b53-8e34-eec3f71def4b",
   "metadata": {},
   "outputs": [],
   "source": [
    "try:\n",
    "    exec('print(1/0)')\n",
    "except:\n",
    "    pass"
   ]
  },
  {
   "cell_type": "code",
   "execution_count": null,
   "id": "3050920d-c80a-4923-8863-828adac14988",
   "metadata": {},
   "outputs": [],
   "source": []
  }
 ],
 "metadata": {
  "kernelspec": {
   "display_name": "Python 3 (ipykernel)",
   "language": "python",
   "name": "python3"
  },
  "language_info": {
   "codemirror_mode": {
    "name": "ipython",
    "version": 3
   },
   "file_extension": ".py",
   "mimetype": "text/x-python",
   "name": "python",
   "nbconvert_exporter": "python",
   "pygments_lexer": "ipython3",
   "version": "3.10.5"
  }
 },
 "nbformat": 4,
 "nbformat_minor": 5
}
